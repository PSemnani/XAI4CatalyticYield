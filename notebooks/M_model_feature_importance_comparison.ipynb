{
 "cells": [
  {
   "cell_type": "markdown",
   "id": "31bdd98d-6c96-4b47-b04a-4029f4917f49",
   "metadata": {},
   "source": [
    "# Compare featrure importances for all models"
   ]
  },
  {
   "cell_type": "code",
   "execution_count": null,
   "id": "ccf1b42e-17a8-418c-abd3-7ae1cb98285e",
   "metadata": {},
   "outputs": [],
   "source": [
    "import numpy as np\n",
    "import matplotlib.pyplot as plt\n",
    "import matplotlib.cm as cm\n",
    "from matplotlib.cm import ScalarMappable\n",
    "import pandas as pd\n",
    "from sklearn.model_selection import train_test_split, RandomizedSearchCV, GridSearchCV, cross_val_score\n",
    "import sklearn\n",
    "from sklearn import tree\n",
    "from sklearn.tree import DecisionTreeClassifier, plot_tree\n",
    "from sklearn.ensemble import RandomForestClassifier, GradientBoostingClassifier\n",
    "import seaborn as sns\n",
    "import plotly.express as px\n",
    "from skopt.plots import plot_convergence\n",
    "from sklearn.metrics import confusion_matrix, accuracy_score, f1_score, precision_score, recall_score\n",
    "from collections import Counter\n",
    "from imblearn.over_sampling import SMOTE\n",
    "from imblearn.under_sampling import RandomUnderSampler\n",
    "from imblearn.pipeline import Pipeline\n",
    "import xgboost.sklearn as xgb\n",
    "from sklearn.svm import SVC\n",
    "from sklearn.linear_model import LogisticRegression\n",
    "from sklearn.neighbors import KNeighborsClassifier\n",
    "from sklearn.inspection import permutation_importance\n",
    "from sklearn.neural_network import MLPClassifier\n",
    "from skopt.space import Real, Integer, Categorical\n",
    "from skopt.utils import use_named_args\n",
    "from skopt import gp_minimize\n",
    "from itertools import product\n",
    "from sklearn.utils import resample\n",
    "from sklearn.model_selection import StratifiedShuffleSplit\n",
    "from sklearn.metrics import make_scorer\n",
    "from tabulate import tabulate\n",
    "import warnings\n",
    "import os\n",
    "from pathlib import Path\n",
    "from mlxai4cat.utils.data import prepare_dataset, stratified_sampling, resampling \n",
    "from mlxai4cat.utils.visualization import get_formatted_results, plot_feature_importance, plot_feature_importance_distribution, custom_palette\n",
    "warnings.filterwarnings(\"ignore\")\n",
    "warnings.filterwarnings(\"ignore\", category=UserWarning, module=\"skopt\")"
   ]
  },
  {
   "cell_type": "code",
   "execution_count": null,
   "id": "db7aa035-4780-44c3-8f9b-fbf4eb3b807e",
   "metadata": {},
   "outputs": [],
   "source": [
    "%load_ext autoreload\n",
    "%autoreload 2"
   ]
  },
  {
   "cell_type": "code",
   "execution_count": null,
   "id": "4c0ee546-f6f9-46d4-9b22-45094ea0f84f",
   "metadata": {},
   "outputs": [],
   "source": [
    "storing_path = Path('../results')\n",
    "figure_path = Path('../figures')"
   ]
  },
  {
   "cell_type": "markdown",
   "id": "ad866139-a336-45ad-900c-cc52cbd4ab04",
   "metadata": {},
   "source": [
    "## Load feature importances of all models and combine in single DataFrame"
   ]
  },
  {
   "cell_type": "markdown",
   "id": "fd4dc7b4-6ccc-421d-a733-1f706339b1dd",
   "metadata": {},
   "source": [
    "### With resampling"
   ]
  },
  {
   "cell_type": "code",
   "execution_count": null,
   "id": "a99eda29-4723-4129-8247-b583ac3fcee0",
   "metadata": {},
   "outputs": [],
   "source": [
    "df_dt_feature_importance = pd.read_csv(os.path.join(storing_path, 'DT_feature_imp_with_sklearn_results.csv')).set_index('Feature')\n",
    "                         \n",
    "df_rf_feature_importance = pd.read_csv(os.path.join(storing_path, 'RF_feature_imp_with_sklearn_results.csv')).set_index('Feature')\n",
    "\n",
    "df_lr_feature_importance = pd.read_csv(os.path.join(storing_path, 'LR_feature_imp_with_sklearn_results.csv')).set_index('Feature')\n",
    "                         \n",
    "df_nn_feature_importance = pd.read_csv(os.path.join(storing_path, 'sorted_mean_lrp_NN.csv')).set_index('Feature')\n",
    "\n",
    "df_svm_feature_importance = pd.read_csv(os.path.join(storing_path, 'sorted_mean_lrp_SVM.csv')).set_index('Feature')\n",
    "\n",
    "df_nn_abs_feature_importance = pd.read_csv(os.path.join(storing_path, 'sorted_mean_abs_lrp_NN.csv')).set_index('Feature')\n",
    "\n",
    "df_svm_abs_feature_importance = pd.read_csv(os.path.join(storing_path, 'sorted_mean_abs_lrp_SVM.csv')).set_index('Feature')\n",
    "\n",
    "df_feature_importance = pd.concat([df_dt_feature_importance, df_rf_feature_importance,\n",
    "                                   df_lr_feature_importance], axis=1)\n",
    "\n",
    "df_feature_importance['Neural Network'] = df_nn_feature_importance['Importance Score']\n",
    "df_feature_importance['Neural Network abs'] = df_nn_abs_feature_importance['Importance Score']\n",
    "df_feature_importance['SVM'] = df_svm_feature_importance['Importance Score']\n",
    "df_feature_importance['SVM abs'] = df_svm_abs_feature_importance['Importance Score']\n",
    "\n",
    "df_feature_importance = df_feature_importance.reset_index()"
   ]
  },
  {
   "cell_type": "markdown",
   "id": "a09175e5-8b03-42a7-ad3d-1a5c67e77d63",
   "metadata": {},
   "source": [
    "### Without resampling"
   ]
  },
  {
   "cell_type": "code",
   "execution_count": null,
   "id": "fafeeaf1-8925-40a2-9f93-0536d8b1f821",
   "metadata": {},
   "outputs": [],
   "source": [
    "df_dt_feature_importance_nr = pd.read_csv(os.path.join(storing_path, 'DT_feature_imp_with_sklearn_NO_Resampling_results.csv')).set_index('Feature')\n",
    "                         \n",
    "df_rf_feature_importance_nr = pd.read_csv(os.path.join(storing_path, 'RF_feature_imp_with_sklearn_NO_Resampling_results.csv')).set_index('Feature')\n",
    "\n",
    "df_lr_feature_importance_nr = pd.read_csv(os.path.join(storing_path, 'LR_feature_imp_with_sklearn_NO_Resampling_results.csv')).set_index('Feature')\n",
    "                                                     \n",
    "df_nn_feature_importance_nr = pd.read_csv(os.path.join(storing_path, 'sorted_mean_lrp_NN_NO_Resampling.csv')).set_index('Feature')\n",
    "\n",
    "df_svm_feature_importance_nr = pd.read_csv(os.path.join(storing_path, 'sorted_mean_lrp_SVM_NO_Resampling.csv')).set_index('Feature')\n",
    "                                                     \n",
    "df_nn_abs_feature_importance_nr = pd.read_csv(os.path.join(storing_path, 'sorted_mean_abs_lrp_NN_NO_Resampling.csv')).set_index('Feature')\n",
    "\n",
    "df_svm_abs_feature_importance_nr = pd.read_csv(os.path.join(storing_path, 'sorted_mean_abs_lrp_SVM_NO_Resampling.csv')).set_index('Feature')\n",
    "\n",
    "df_feature_importance_nr = pd.concat([df_dt_feature_importance_nr, df_rf_feature_importance_nr,\n",
    "                                   df_lr_feature_importance_nr], axis=1)\n",
    "\n",
    "df_feature_importance_nr['Neural Network'] = df_nn_feature_importance_nr['Importance Score']\n",
    "df_feature_importance_nr['Neural Network abs'] = df_nn_abs_feature_importance_nr['Importance Score']\n",
    "df_feature_importance_nr['SVM'] = df_svm_feature_importance_nr['Importance Score']\n",
    "df_feature_importance_nr['SVM abs'] = df_svm_abs_feature_importance_nr['Importance Score']\n",
    "\n",
    "df_feature_importance_nr = df_feature_importance_nr.reset_index()"
   ]
  },
  {
   "cell_type": "markdown",
   "id": "ae881c85-8175-46c6-82c0-6954047b32be",
   "metadata": {},
   "source": [
    "## Comparison of feature importances between the various tree based models"
   ]
  },
  {
   "cell_type": "code",
   "execution_count": null,
   "id": "b9d4da1b-fd0f-4567-836c-c564f84617f2",
   "metadata": {},
   "outputs": [],
   "source": [
    "# Melt the DataFrame to transform it into the suitable format for Plotly\n",
    "selected_models = ['Decision tree','DT prepruned', 'DT postpruned', 'Random forest', 'XGBoost'] + ['Feature']\n",
    "\n",
    "df_feature_importance_selected = df_feature_importance[selected_models]\n",
    "\n",
    "#print(df_feature_importance_selected)\n",
    "\n",
    "df_melted = pd.melt(df_feature_importance_selected, id_vars='Feature', var_name='Model', value_name='Importance')\n",
    "\n",
    "# Set up the plot\n",
    "plt.figure(figsize=(20, 8))\n",
    "\n",
    "# Create a grouped bar plot\n",
    "sns.barplot(x='Feature', y='Importance', hue='Model', data=df_melted, palette='Set2')\n",
    "\n",
    "# Customize the plot\n",
    "plt.title('Feature Importance Comparison')\n",
    "plt.xlabel('Feature')\n",
    "plt.ylabel('Feature Importance')\n",
    "plt.legend(title='Model')\n",
    "plt.grid(axis='y', linestyle='--', alpha=0.7)\n",
    "\n",
    "# Show the plot\n",
    "plt.show()"
   ]
  },
  {
   "cell_type": "code",
   "execution_count": null,
   "id": "afad13c1-546c-4cf2-bf90-36ea26fee04f",
   "metadata": {},
   "outputs": [],
   "source": [
    "def normalize_column(df, column_name, range_min=0, range_max=1):\n",
    "    \"\"\"\n",
    "    Normalize the values of a column in a DataFrame to a specified range [range_min, range_max].\n",
    "\n",
    "    Parameters:\n",
    "    - df (pd.DataFrame): The DataFrame containing the column to be normalized.\n",
    "    - column_name (str): The name of the column to be normalized.\n",
    "    - range_min (float): The minimum value of the normalized range.\n",
    "    - range_max (float): The maximum value of the normalized range.\n",
    "\n",
    "    Returns:\n",
    "    - pd.DataFrame: The DataFrame with the normalized column.\n",
    "    \"\"\"\n",
    "    min_val = df[column_name].min()\n",
    "    max_val = df[column_name].max()\n",
    "    df[column_name] = (df[column_name] - min_val) / (max_val - min_val) * (range_max - range_min) + range_min\n",
    "    return df\n"
   ]
  },
  {
   "cell_type": "markdown",
   "id": "84a82ebe-4541-43b0-8f13-0f2deedc7e77",
   "metadata": {},
   "source": [
    "## Normalizing SVM and Neural Network values"
   ]
  },
  {
   "cell_type": "code",
   "execution_count": null,
   "id": "919e7f99-deab-4c40-bfd9-8d28a3daaf93",
   "metadata": {},
   "outputs": [],
   "source": [
    "df_feature_importance = normalize_column(df_feature_importance, 'SVM', range_min=-1, range_max=1)\n",
    "df_feature_importance = normalize_column(df_feature_importance, 'Neural Network', range_min=-1, range_max=1)\n",
    "df_feature_importance = normalize_column(df_feature_importance, 'SVM abs', range_min=0, range_max=1)\n",
    "df_feature_importance = normalize_column(df_feature_importance, 'Neural Network abs', range_min=0, range_max=1)"
   ]
  },
  {
   "cell_type": "markdown",
   "id": "fb140d3a-cee2-407d-ac48-e03a8fc1c81c",
   "metadata": {},
   "source": [
    "## Comparison of feature importances between all models on a barplot"
   ]
  },
  {
   "cell_type": "code",
   "execution_count": null,
   "id": "204df2ed-3370-449e-8bb7-0a5cceda7fd9",
   "metadata": {},
   "outputs": [],
   "source": [
    "# Melt the DataFrame to transform it into the suitable format for Plotly\n",
    "df_melted = pd.melt(df_feature_importance, id_vars='Feature', var_name='Model', value_name='Importance')\n",
    "\n",
    "\n",
    "# Set up the plot\n",
    "plt.figure(figsize=(14, 6))\n",
    "\n",
    "# Create a grouped bar plot\n",
    "sns.barplot(x='Feature', y='Importance', hue='Model', data=df_melted, palette='Dark2')\n",
    "\n",
    "# Customize the plot\n",
    "plt.title('Feature Importance Comparison of all ML models', fontsize=14)\n",
    "plt.xlabel('Feature', fontsize=16)\n",
    "plt.ylabel('Feature Importance', fontsize=16)\n",
    "plt.xticks(rotation=45, fontsize=14)\n",
    "plt.yticks(fontsize=14)\n",
    "plt.legend(title='Model', fontsize=12, title_fontsize=12, loc='upper right', bbox_to_anchor=(1.25, 0.85))\n",
    "\n",
    "plt.grid(axis='y', linestyle='--', alpha=0.9)\n",
    "#plt.savefig(\"/Users/parastoo/phd_projects/OCM/plots/Feature_Importance_Comparison_all_models.png\", facecolor=(1,1,1,0), bbox_inches='tight', dpi=300)\n",
    "\n",
    "# Show the plot\n",
    "plt.show()"
   ]
  },
  {
   "cell_type": "markdown",
   "id": "1dcc91b1-7968-4dc1-ac22-928fa9ebfdab",
   "metadata": {},
   "source": [
    "## Average feature importances across all tree-based models"
   ]
  },
  {
   "cell_type": "code",
   "execution_count": null,
   "id": "e3028a69-7281-422e-bbea-e382d293ac99",
   "metadata": {},
   "outputs": [],
   "source": [
    "df_feature_analysis = df_feature_importance.copy()\n",
    "\n",
    "selected_tree_models = ['Decision tree', 'DT prepruned', 'DT postpruned', 'Random forest', 'XGBoost']\n",
    "\n",
    "# Calculate the average importance for each feature across selected models\n",
    "df_feature_analysis['AverageImportance_trees'] = df_feature_importance[selected_tree_models].mean(axis=1)\n",
    "df_feature_analysis['StdImportance_trees'] = df_feature_importance[selected_tree_models].std(axis=1)\n",
    "\n",
    "# Sort the DataFrame based on 'AverageImportance_trees' in descending order for plotting\n",
    "df_sorted_selected = df_feature_analysis.sort_values(by='AverageImportance_trees', ascending=False)\n",
    "\n",
    "# Use the custom palette for the colors\n",
    "colors = custom_palette(df_sorted_selected['AverageImportance_trees'])\n",
    "\n",
    "# Plotting for selected models\n",
    "fig, ax = plt.subplots(figsize=(8, 16))\n",
    "ax.barh(df_sorted_selected['Feature'], df_sorted_selected['AverageImportance_trees'], xerr=df_sorted_selected['StdImportance_trees'], capsize=5, color=colors)\n",
    "\n",
    "# Set labels and title for selected models\n",
    "ax.set_xlabel('Importance Score', fontsize=25)\n",
    "ax.set_ylabel('Features', fontsize=25)\n",
    "ax.tick_params(axis='both', which='major', labelsize=20)\n",
    "plt.savefig(os.path.join(figure_path, \"Average_Feature_Importance_trees_Models.png\"), dpi=300)\n",
    "\n",
    "# Show the plot\n",
    "plt.show()\n"
   ]
  },
  {
   "cell_type": "markdown",
   "id": "5a42e91d-be74-4bc8-b1db-d37cee999bbb",
   "metadata": {},
   "source": [
    "## Average feature importances across random forest, logistic regression, neural networks and SVM"
   ]
  },
  {
   "cell_type": "code",
   "execution_count": null,
   "id": "343818cf-d193-495d-9c1f-272142472d96",
   "metadata": {},
   "outputs": [],
   "source": [
    "df_feature_analysis = df_feature_importance.copy()\n",
    "\n",
    "selected_models = ['Random forest', 'Logistic regression', 'SVM abs', 'Neural Network abs']\n",
    "\n",
    "# Calculate the average importance for each feature across selected models\n",
    "df_feature_analysis['AverageImportance_selected'] = df_feature_importance[selected_models].mean(axis=1)\n",
    "\n",
    "df_feature_analysis['StdImportance_selected'] = df_feature_importance[selected_models].std(axis=1)\n",
    "\n",
    "# Sort the DataFrame based on 'AverageImportance_trees' in descending order for plotting\n",
    "df_sorted_selected = df_feature_analysis.sort_values(by='AverageImportance_selected', ascending=False)\n",
    "\n",
    "# Sort the DataFrame based on 'AverageImportance_trees' in descending order for plotting\n",
    "df_sorted_selected = df_feature_analysis.sort_values(by='AverageImportance_selected', ascending=False)\n",
    "\n",
    "# Use the custom palette for the colors\n",
    "colors = custom_palette(df_sorted_selected['AverageImportance_selected'])\n",
    "\n",
    "# Plotting for selected models\n",
    "fig, ax = plt.subplots(figsize=(8, 16))\n",
    "ax.barh(df_sorted_selected['Feature'], df_sorted_selected['AverageImportance_selected'], xerr=df_sorted_selected['StdImportance_selected'], capsize=5, color=colors)\n",
    "\n",
    "# Set labels and title for selected models\n",
    "ax.set_xlabel('Importance Score', fontsize=25)\n",
    "ax.set_ylabel('Features', fontsize=25)\n",
    "ax.tick_params(axis='both', which='major', labelsize=20)\n",
    "#plt.savefig(\"/Users/parastoo/phd_projects/OCM/plots/Average_Feature_Importance_selected_Models.png\", dpi=300)\n",
    "\n",
    "# Show the plot\n",
    "plt.savefig(os.path.join(figure_path, \"Mean_Feature_Importance_with_Error_Bars_selected_horizontal.png\"), dpi=300, facecolor=(1,1,1,0), bbox_inches='tight')\n",
    "plt.show()\n"
   ]
  },
  {
   "cell_type": "markdown",
   "id": "8b053a5c-4fab-49a4-a748-96440003545c",
   "metadata": {},
   "source": [
    "## Fisher Z correlation transformation"
   ]
  },
  {
   "cell_type": "code",
   "execution_count": null,
   "id": "fb7e8c23-28b8-4fbf-8ac0-7561fa65da62",
   "metadata": {},
   "outputs": [],
   "source": [
    "# Apply Fisher Z transformation\n",
    "def fisher_z_transform(r):\n",
    "    if r == 1:\n",
    "        return np.inf\n",
    "    elif r == -1:\n",
    "        return -np.inf\n",
    "    else:\n",
    "        return np.log((1 + r) / (1 - r)) / 2\n",
    "        \n",
    "def inverse_fisher_z_transform(z):\n",
    "    if z == np.inf:\n",
    "        return 1.0\n",
    "    elif z == -np.inf:\n",
    "        return -1.0\n",
    "    else:\n",
    "        return (np.exp(2*z) - 1) / (np.exp(2*z) + 1)"
   ]
  },
  {
   "cell_type": "markdown",
   "id": "800aad6e-463a-44f6-842a-00c3c5cfd302",
   "metadata": {},
   "source": [
    "Correlation analysis beetween absolute feature importances"
   ]
  },
  {
   "cell_type": "code",
   "execution_count": null,
   "id": "df57a2cd-9dc6-439b-be7e-4b15028e62ce",
   "metadata": {},
   "outputs": [],
   "source": [
    "model_columns = [col for col in df_feature_importance.columns if col not in ['Feature']]\n",
    "model_columns\n",
    "\n",
    "#model_columns = [col for col in df_feature_importance.columns if col not in ['Feature']]\n",
    "model_columns = ['Decision tree', 'DT prepruned', 'DT postpruned', 'Random forest', 'XGBoost', 'Logistic regression', 'SVM abs', 'Neural Network abs']\n",
    "df_models_only = df_feature_importance[model_columns]\n",
    "\n",
    "# Calculate Pearson correlation coefficients for model columns only\n",
    "correlation_matrix = df_models_only.corr()\n",
    "# Fill diagonal with zeros to avoid division by zero\n",
    "np.fill_diagonal(correlation_matrix.values, 0)\n",
    "\n",
    "# Calculate mean of transformed values for each model pair\n",
    "average_correlation_coefficients = {}\n",
    "for model1 in correlation_matrix.index:\n",
    "    for model2 in correlation_matrix.index:\n",
    "        if model1 != model2:\n",
    "            correlation_value = correlation_matrix.loc[model1, model2]\n",
    "            correlation_value_transformed = fisher_z_transform(correlation_value)\n",
    "            average_correlation_coefficients[(model1, model2)] = inverse_fisher_z_transform(correlation_value_transformed)\n",
    "\n",
    "\n",
    "# Create a matrix representation\n",
    "matrix_size = len(model_columns)\n",
    "correlation_matrix_matrix = np.zeros((matrix_size, matrix_size))\n",
    "\n",
    "for i, model1 in enumerate(model_columns):\n",
    "    for j, model2 in enumerate(model_columns):\n",
    "        if i != j:\n",
    "            correlation_matrix_matrix[i, j] = average_correlation_coefficients[(model1, model2)]\n",
    "\n",
    "np.fill_diagonal(correlation_matrix_matrix, 1)\n",
    "# Create a heatmap\n",
    "\n",
    "plt.figure(figsize=(15, 15))\n",
    "ticks= ['Decision Tree','DT prepruned', 'DT postpruned', 'Random Forest', 'XGBoost', 'Logistic Regression', 'SVM', 'Neural Networks']\n",
    "heatmap = sns.heatmap(correlation_matrix_matrix, annot=True, fmt=\".2f\", cmap=\"coolwarm\", xticklabels=ticks, yticklabels=ticks, annot_kws={\"size\": 16, \"color\":'black'}, vmin=0)\n",
    "plt.xticks(rotation=90, fontsize=16)\n",
    "plt.yticks(rotation=0, fontsize=16)\n",
    "# plt.xticks(rotation=90, fontsize=14)\n",
    "# plt.yticks(rotation=0, fontsize=14)\n",
    "plt.xlabel(\"Models\", fontsize=20)\n",
    "plt.ylabel(\"Models\", fontsize=20)\n",
    "plt.xlabel(\"Models\")\n",
    "plt.ylabel(\"Models\")\n",
    "\n",
    "# Get the colorbar object\n",
    "cbar = heatmap.collections[0].colorbar\n",
    "\n",
    "# Set the font size of colorbar tick labels\n",
    "cbar.ax.tick_params(labelsize=16)\n",
    "\n",
    "plt.savefig(os.path.join(figure_path, \"Average_corr_coeff_for_all_models.png\"), facecolor=(1,1,1,0), bbox_inches='tight', dpi=300)\n",
    "plt.show()\n",
    "\n"
   ]
  },
  {
   "cell_type": "code",
   "execution_count": null,
   "id": "ab9e2efb-ea4e-4e9f-9a8e-f2633f54cfcc",
   "metadata": {},
   "outputs": [],
   "source": []
  },
  {
   "cell_type": "code",
   "execution_count": null,
   "id": "4cb45c18-a1bd-42ec-8e43-7bb3a2e6ac15",
   "metadata": {},
   "outputs": [],
   "source": []
  }
 ],
 "metadata": {
  "kernelspec": {
   "display_name": "Python 3 (ipykernel)",
   "language": "python",
   "name": "python3"
  },
  "language_info": {
   "codemirror_mode": {
    "name": "ipython",
    "version": 3
   },
   "file_extension": ".py",
   "mimetype": "text/x-python",
   "name": "python",
   "nbconvert_exporter": "python",
   "pygments_lexer": "ipython3",
   "version": "3.10.15"
  }
 },
 "nbformat": 4,
 "nbformat_minor": 5
}

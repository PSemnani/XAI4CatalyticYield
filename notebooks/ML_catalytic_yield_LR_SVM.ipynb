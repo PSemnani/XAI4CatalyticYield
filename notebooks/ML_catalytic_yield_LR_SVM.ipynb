{
 "cells": [
  {
   "cell_type": "markdown",
   "id": "9a515e9b-3410-4d0a-83f7-91dc8e1ee9d0",
   "metadata": {
    "tags": []
   },
   "source": [
    "# Evaluate ML framework for SVM and Logistic regression"
   ]
  },
  {
   "cell_type": "code",
   "execution_count": null,
   "id": "96e8d938-1c7b-4b94-9e0a-a6630324ad50",
   "metadata": {},
   "outputs": [],
   "source": [
    "import numpy as np\n",
    "import matplotlib.pyplot as plt\n",
    "import matplotlib.cm as cm\n",
    "from matplotlib.cm import ScalarMappable\n",
    "import pandas as pd\n",
    "from sklearn.model_selection import train_test_split, RandomizedSearchCV, GridSearchCV, cross_val_score\n",
    "import sklearn\n",
    "from sklearn import tree\n",
    "from sklearn.ensemble import RandomForestClassifier, GradientBoostingClassifier\n",
    "import seaborn as sns\n",
    "import plotly.express as px\n",
    "from skopt.plots import plot_convergence\n",
    "from sklearn.metrics import confusion_matrix, accuracy_score, f1_score, precision_score, recall_score\n",
    "from collections import Counter\n",
    "from imblearn.over_sampling import SMOTE\n",
    "from imblearn.under_sampling import RandomUnderSampler\n",
    "from imblearn.pipeline import Pipeline\n",
    "import xgboost.sklearn as xgb\n",
    "from sklearn.svm import SVC\n",
    "from sklearn.linear_model import LogisticRegression\n",
    "from sklearn.neighbors import KNeighborsClassifier\n",
    "from sklearn.neural_network import MLPClassifier\n",
    "from skopt.space import Real, Integer, Categorical\n",
    "from skopt.utils import use_named_args\n",
    "from skopt import gp_minimize\n",
    "from itertools import product\n",
    "from sklearn.utils import resample\n",
    "from sklearn.model_selection import StratifiedShuffleSplit\n",
    "from sklearn.metrics import make_scorer\n",
    "from tabulate import tabulate\n",
    "import warnings\n",
    "import os\n",
    "from pathlib import Path\n",
    "\n",
    "from mlxai4cat.utils.data import prepare_dataset, stratified_sampling, resampling \n",
    "from mlxai4cat.utils.visualization import get_formatted_results, plot_feature_importance, plot_feature_importance_distribution\n",
    "from mlxai4cat.models.neuralized_svm import NeuralizedSVM\n",
    "from mlxai4cat.utils.LRP_tools import LRPAnalyzer\n",
    "warnings.filterwarnings(\"ignore\")\n",
    "warnings.filterwarnings(\"ignore\", category=UserWarning, module=\"skopt\")"
   ]
  },
  {
   "cell_type": "code",
   "execution_count": null,
   "id": "fa967d7c-cb8d-470d-8e4e-7609210ccbe7",
   "metadata": {},
   "outputs": [],
   "source": [
    "%load_ext autoreload\n",
    "%autoreload 2"
   ]
  },
  {
   "cell_type": "code",
   "execution_count": null,
   "id": "9bde0884-de04-4b3d-9744-ad33f2152216",
   "metadata": {},
   "outputs": [],
   "source": [
    "storing_path = Path('../results')\n",
    "figure_path = Path('../figures')"
   ]
  },
  {
   "cell_type": "markdown",
   "id": "94eb592a-5835-40c3-8bbf-97209c3b3afd",
   "metadata": {},
   "source": [
    "## Import data"
   ]
  },
  {
   "cell_type": "code",
   "execution_count": null,
   "id": "9ffe2bc7-879a-4ad0-867a-ae8d70f48624",
   "metadata": {},
   "outputs": [],
   "source": [
    "_, X, y, X_pos, y_pos, X_neg, y_neg, feature_names = prepare_dataset('../data/ocm_cat_data.csv')"
   ]
  },
  {
   "cell_type": "markdown",
   "id": "aaab8474-463d-4e18-a0b8-b469136bcab2",
   "metadata": {
    "tags": []
   },
   "source": [
    "## Logistic regression"
   ]
  },
  {
   "cell_type": "code",
   "execution_count": null,
   "id": "2c1a22cb-e529-4747-8ca6-5935b29a9050",
   "metadata": {
    "tags": []
   },
   "outputs": [],
   "source": [
    "n = 100\n",
    "acc_logit = []\n",
    "precision_logit = []\n",
    "recall_logit = []\n",
    "f1_logit = []\n",
    "\n",
    "# Initialize an empty list to store feature importances\n",
    "feature_importances_logit = []\n",
    "\n",
    "for rs in range(n):\n",
    "    X_train, y_train, X_test, y_test = stratified_sampling(X_pos, X_neg, y_pos, y_neg, rs * 1234 + 567)\n",
    "    X_train, y_train = resampling(X_train, y_train, overratio=0.6, underratio=1, randomstate=123)\n",
    "    \n",
    "    clf_logit = LogisticRegression(random_state=0).fit(X_train, y_train)\n",
    "    y_pred = clf_logit.predict(X_test)\n",
    "    acc_logit.append(accuracy_score(y_test, y_pred))\n",
    "    precision_logit.append(precision_score(y_test, y_pred, zero_division=1))\n",
    "    recall_logit.append(recall_score(y_test, y_pred))\n",
    "    f1_logit.append(f1_score(y_test, y_pred))\n",
    "    \n",
    "    # Append the coefficients (feature importances) to the list\n",
    "    feature_importances_logit.append(abs(clf_logit.coef_[0]))"
   ]
  },
  {
   "cell_type": "markdown",
   "id": "14bd7699-51b3-435b-be18-274506fe8fc6",
   "metadata": {},
   "source": [
    "### Display different performance metrics"
   ]
  },
  {
   "cell_type": "code",
   "execution_count": null,
   "id": "ae074c59-ab75-433a-aaad-ef953e923f5d",
   "metadata": {},
   "outputs": [],
   "source": [
    "df_metrics = get_formatted_results(acc_logit, f1_logit, precision_logit, recall_logit, model_name=\"Logistic regression\", verbose=True, df_metrics=None)\n",
    "df_metrics "
   ]
  },
  {
   "cell_type": "code",
   "execution_count": null,
   "id": "ade37063-5492-4a5c-8fa8-73c405143506",
   "metadata": {},
   "outputs": [],
   "source": [
    "df_feature_importance = plot_feature_importance(feature_importances_logit, feature_names, model_name=\"Logistic regression\", df_feature_importance=None, savedir=figure_path)"
   ]
  },
  {
   "cell_type": "code",
   "execution_count": null,
   "id": "f9c2a4e0-6089-4522-9272-245df33fa47d",
   "metadata": {},
   "outputs": [],
   "source": [
    "plot_feature_importance_distribution(feature_importances_logit, feature_names, \"Logistic Regression\", color='gray', savedir='../figures')"
   ]
  },
  {
   "cell_type": "markdown",
   "id": "2e016f36-ea4e-44c3-b23e-e29a293c4598",
   "metadata": {},
   "source": [
    "## Logistic regression without Resampling"
   ]
  },
  {
   "cell_type": "code",
   "execution_count": null,
   "id": "e8efecb8-0816-4491-a5a8-263eda8e7e9b",
   "metadata": {},
   "outputs": [],
   "source": [
    "n = 100\n",
    "acc_logit_nr = []\n",
    "precision_logit_nr = []\n",
    "recall_logit_nr = []\n",
    "f1_logit_nr = []\n",
    "\n",
    "# Initialize an empty list to store feature importances\n",
    "feature_importances_logit_nr = []\n",
    "\n",
    "for rs in range(n):\n",
    "    X_train, y_train, X_test, y_test = stratified_sampling(X_pos, X_neg, y_pos, y_neg, rs * 1234 + 567)\n",
    "    \n",
    "    clf_logit_nr = LogisticRegression(random_state=0).fit(X_train, y_train)\n",
    "    y_pred_nr = clf_logit_nr.predict(X_test)\n",
    "    acc_logit_nr.append(accuracy_score(y_test, y_pred_nr))\n",
    "    precision_logit_nr.append(precision_score(y_test, y_pred_nr, zero_division=1))\n",
    "    recall_logit_nr.append(recall_score(y_test, y_pred_nr))\n",
    "    f1_logit_nr.append(f1_score(y_test, y_pred_nr))\n",
    "    \n",
    "    # Append the coefficients (feature importances) to the list\n",
    "    feature_importances_logit_nr.append(abs(clf_logit_nr.coef_[0]))\n"
   ]
  },
  {
   "cell_type": "markdown",
   "id": "2badbda6-1bb3-4958-b847-35956d44dd86",
   "metadata": {},
   "source": [
    "### Display different performance metrics"
   ]
  },
  {
   "cell_type": "code",
   "execution_count": null,
   "id": "eda8cc33-9ddd-4fa2-b560-36ba68f715bf",
   "metadata": {},
   "outputs": [],
   "source": [
    "df_metrics_nr = get_formatted_results(acc_logit_nr, f1_logit_nr, precision_logit_nr, recall_logit_nr, model_name=\"Logistic regression\", verbose=True, df_metrics=None)\n",
    "df_metrics_nr"
   ]
  },
  {
   "cell_type": "code",
   "execution_count": null,
   "id": "f5bb4dd6-1e1b-4c2c-b002-3cf098424189",
   "metadata": {},
   "outputs": [],
   "source": [
    "df_feature_importance_nr = plot_feature_importance(feature_importances_logit_nr, feature_names, model_name=\"Logistic regression\", df_feature_importance=None, savedir=figure_path)\n",
    "df_feature_importance_nr"
   ]
  },
  {
   "cell_type": "code",
   "execution_count": null,
   "id": "b1fa9be1-9824-4dbe-a5c2-d7780d40aea4",
   "metadata": {},
   "outputs": [],
   "source": [
    "plot_feature_importance_distribution(feature_importances_logit_nr, feature_names, \"Logistic Regression (no resampling)\", color='gray', savedir=figure_path)"
   ]
  },
  {
   "cell_type": "markdown",
   "id": "3ff20b20-0bf1-4391-b8aa-1f437bec275d",
   "metadata": {},
   "source": [
    "### Save logistic regression models evaluation and importance score results"
   ]
  },
  {
   "cell_type": "code",
   "execution_count": null,
   "id": "7dd55a8d-c534-4ce6-a8f3-f303a8f04290",
   "metadata": {},
   "outputs": [],
   "source": [
    "## SAVING ANALYSIS RESULTS\n",
    "df_metrics.to_csv(os.path.join(storing_path, 'LR_metrics_results.csv'), index=False)\n",
    "df_metrics_nr.to_csv(os.path.join(storing_path, 'LR_metrics_NO_Resampling_results.csv'), index=False)\n",
    "df_feature_importance.to_csv(os.path.join(storing_path, 'LR_feature_imp_with_sklearn_results.csv'), index=False)\n",
    "df_feature_importance_nr.to_csv(os.path.join(storing_path, 'LR_feature_imp_with_sklearn_NO_Resampling_results.csv'), index=False)\n"
   ]
  },
  {
   "cell_type": "markdown",
   "id": "d58bffbe-51bf-4ef7-89f4-424d17997998",
   "metadata": {
    "tags": []
   },
   "source": [
    "## SVM with resampling"
   ]
  },
  {
   "cell_type": "markdown",
   "id": "71f2e52c-4af7-4d70-95d2-6ebb42c0195b",
   "metadata": {
    "tags": []
   },
   "source": [
    "### Training and nested cross-validation"
   ]
  },
  {
   "cell_type": "code",
   "execution_count": null,
   "id": "7dc2d2eb-58ae-4cb2-b1c8-5c554e5a6505",
   "metadata": {},
   "outputs": [],
   "source": [
    "n = 100\n",
    "acc_svm = []\n",
    "precision_svm = []\n",
    "recall_svm = []\n",
    "f1_svm = []\n",
    "kernels = []\n",
    "Cs = []\n",
    "gammas = []\n",
    "feature_importances_svm = []\n",
    "R_svr_accumulated_all = []\n",
    "\n",
    "evaluated_points = {}\n",
    "\n",
    "# Loop through different random splits\n",
    "for rs in range(n):\n",
    "    X_train, y_train, X_test, y_test = stratified_sampling(X_pos, X_neg, y_pos, y_neg, rs * 1234 + 567)\n",
    "    X_train, y_train = resampling(X_train, y_train, overratio=0.6, underratio=1, randomstate=123)\n",
    "\n",
    "    clf_svm = SVC(random_state=0)\n",
    "    \n",
    "    # Define the space differently for different kernels\n",
    "    space = [Categorical(['rbf'], name='kernel')]\n",
    "    if 'rbf' in space[0]:\n",
    "        space.append(Real(10**-2, 10**2, \"log-uniform\", name='C'))\n",
    "        space.append(Real(10**-4, 10**1, \"log-uniform\", name='gamma'))\n",
    "    else:\n",
    "        space.append(Real(10**-2, 10**2, \"log-uniform\", name='C')) \n",
    "    \n",
    "    @use_named_args(space)\n",
    "    def objective(**params):\n",
    "        params_key = tuple(sorted(params.items()))\n",
    "        \n",
    "        # Check if the point has been evaluated before\n",
    "        if params_key in evaluated_points:\n",
    "            return evaluated_points[params_key]  \n",
    "        \n",
    "        # Set the kernel parameter based on the space definition\n",
    "        kernel = params['kernel']\n",
    "        del params['kernel']  # Remove kernel from params\n",
    "        \n",
    "        clf_svm.set_params(kernel=kernel, **params)\n",
    "        score = -np.mean(cross_val_score(clf_svm, X_train, y_train, cv=5, n_jobs=8, scoring=\"f1\"))\n",
    "        \n",
    "        # Store the result\n",
    "        evaluated_points[params_key] = score\n",
    "        return score\n",
    "\n",
    "    res_gp = gp_minimize(objective, space, n_calls=30, random_state=0)\n",
    "    \n",
    "    # Adjust the model parameters based on the optimization results\n",
    "    if 'rbf' in space[0]:\n",
    "        clf_svm_optim = SVC(random_state=0, kernel=res_gp.x[0], C=res_gp.x[1], gamma=res_gp.x[2]) \n",
    "        Cs.append(res_gp.x[1])  # Store C values for rbf kernel\n",
    "        gammas.append(res_gp.x[2])  # Store gamma values for rbf kernel\n",
    "    else:\n",
    "        clf_svm_optim = SVC(random_state=0, kernel=res_gp.x[0], C=res_gp.x[1], gamma='auto')  # Use C value of 1000 for non-rbf kernels\n",
    "        Cs.append(res_gp.x[1])  # Store C values for non-rbf kernels\n",
    "        gammas.append('auto')  # Store gamma as 'auto' for non-rbf kernels\n",
    "    \n",
    "    kernels.append(res_gp.x[0])\n",
    "\n",
    "    clf_svm_optim.fit(X_train, y_train)\n",
    "    y_pred = clf_svm_optim.predict(X_test)\n",
    "    acc_svm.append(accuracy_score(y_test, y_pred))\n",
    "    precision_svm.append(precision_score(y_test, y_pred, zero_division=1))\n",
    "    recall_svm.append(recall_score(y_test, y_pred))\n",
    "    f1_svm.append(f1_score(y_test, y_pred))\n",
    "\n",
    "    # Perform neuralisation\n",
    "    svm_neural = NeuralizedSVM(clf_svm_optim)\n",
    "    R_svr_accumulated = svm_neural.explain(X_test, first_rule=\"GI\", with_intercept=False, reweight_explanation=True)\n",
    "    R_svr_accumulated_all.append(R_svr_accumulated)\n",
    "\n",
    "    if rs % 10 == 0:\n",
    "        print(\"Split %s\" % rs)\n"
   ]
  },
  {
   "cell_type": "markdown",
   "id": "8c2ee09b-3b67-4f9b-9520-107fe95b2cdf",
   "metadata": {},
   "source": [
    "### Display different performance metrics"
   ]
  },
  {
   "cell_type": "code",
   "execution_count": null,
   "id": "89aa68e3-6fb9-4d43-9c8e-52e5f40df0c0",
   "metadata": {},
   "outputs": [],
   "source": [
    "df_metrics = get_formatted_results(acc_svm, f1_svm, precision_svm, recall_svm, model_name=\"SVM\", verbose=True, df_metrics=None)\n",
    "df_metrics"
   ]
  },
  {
   "cell_type": "code",
   "execution_count": null,
   "id": "3f51d10f-a623-4ad8-b243-3f042a33157e",
   "metadata": {},
   "outputs": [],
   "source": [
    "optimal_kernel = res_gp.x[0]\n",
    "optimal_C = res_gp.x[1]\n",
    "optimal_gamma = res_gp.x[2]  # Add this line to access the optimized gamma value\n",
    "\n",
    "print(\"Optimal Kernel:\", optimal_kernel)\n",
    "print(\"Optimal C:\", optimal_C)\n",
    "print(\"Optimal Gamma:\", optimal_gamma)  # Print the optimized gamma value\n"
   ]
  },
  {
   "cell_type": "markdown",
   "id": "c10cd87e-3119-4750-b10a-0d9a9a3be5e0",
   "metadata": {},
   "source": [
    "### Signed and absolute average feature importances"
   ]
  },
  {
   "cell_type": "code",
   "execution_count": null,
   "id": "8c0d7555-f5c6-4c65-9e78-7a1a95191210",
   "metadata": {},
   "outputs": [],
   "source": [
    "analyzer = LRPAnalyzer(np.array(R_svr_accumulated_all).reshape(-1, len(feature_names)), feature_names)\n",
    "analyzer.calculate_mean_lrp_scores()\n",
    "analyzer.calculate_mean_abs_lrp_scores()\n",
    "analyzer.plot_lrp_scores(os.path.join(figure_path, 'sorted_mean_lrp_SVM_GI.png'))\n",
    "analyzer.plot_abs_lrp_scores(os.path.join(figure_path, 'sorted_mean_abs_lrp_SVM_GI.png'))\n",
    "analyzer.save_scores_to_csv(os.path.join(storing_path, 'sorted_mean_lrp_SVM.csv'), os.path.join(storing_path, 'sorted_mean_abs_lrp_SVM.csv'))"
   ]
  },
  {
   "cell_type": "code",
   "execution_count": null,
   "id": "179944d2-7d0e-4980-9952-7d289dadb819",
   "metadata": {},
   "outputs": [],
   "source": [
    "# collect and reshape relevances for plotting\n",
    "print(R_svr_accumulated_all[0].shape)\n",
    "svr_rels = np.stack(R_svr_accumulated_all, 0)\n",
    "\n",
    "plot_feature_importance_distribution(np.abs(svr_rels).mean(1), feature_names, \"SVM (no resampling)\", color='gray', savedir=figure_path)"
   ]
  },
  {
   "cell_type": "markdown",
   "id": "dea5abe8-9cff-417f-ae55-c3f8e4d9c3a5",
   "metadata": {},
   "source": [
    "## SVM without Resampling"
   ]
  },
  {
   "cell_type": "markdown",
   "id": "30a75a6c-6e98-4dbd-a5dc-f35e2fb04fb5",
   "metadata": {
    "tags": []
   },
   "source": [
    "### Training and nested cross-validation"
   ]
  },
  {
   "cell_type": "code",
   "execution_count": null,
   "id": "3190c3e2-648b-4308-85ac-0cbd6dcbc0f3",
   "metadata": {},
   "outputs": [],
   "source": [
    "n = 100\n",
    "acc_svm_nr = []\n",
    "precision_svm_nr = []\n",
    "recall_svm_nr = []\n",
    "f1_svm_nr = []\n",
    "kernels_nr = []\n",
    "Cs_nr = []\n",
    "gammas_nr = []\n",
    "feature_importances_svm_nr = []\n",
    "R_svr_accumulated_all_nr = []\n",
    "\n",
    "evaluated_points = {}  \n",
    "\n",
    "# Loop through different random splits\n",
    "for rs in range(n):\n",
    "    X_train, y_train, X_test, y_test = stratified_sampling(X_pos, X_neg, y_pos, y_neg, rs * 1234 + 567)\n",
    "    #X_train, y_train = resampling(X_train, y_train, overratio=0.6, underratio=1, randomstate=123)\n",
    "\n",
    "    clf_svm_nr = SVC(random_state=0)\n",
    "    \n",
    "    # Define the space differently for different kernels\n",
    "    space = [Categorical(['rbf'], name='kernel')]\n",
    "    if 'rbf' in space[0]:\n",
    "        space.append(Real(10**-2, 10**2, \"log-uniform\", name='C'))\n",
    "        space.append(Real(10**-4, 10**1, \"log-uniform\", name='gamma'))\n",
    "    else:\n",
    "        space.append(Real(10**-2, 10**2, \"log-uniform\", name='C')) \n",
    "    \n",
    "    @use_named_args(space)\n",
    "    def objective(**params):\n",
    "        params_key = tuple(sorted(params.items()))\n",
    "        \n",
    "        # Check if the point has been evaluated before\n",
    "        if params_key in evaluated_points:\n",
    "            return evaluated_points[params_key]  \n",
    "        \n",
    "        # Set the kernel parameter based on the space definition\n",
    "        kernel = params['kernel']\n",
    "        del params['kernel']  # Remove kernel from params\n",
    "        \n",
    "        clf_svm_nr.set_params(kernel=kernel, **params)\n",
    "        score = -np.mean(cross_val_score(clf_svm_nr, X_train, y_train, cv=5, n_jobs=8, scoring=\"f1\"))\n",
    "        \n",
    "        # Store the result\n",
    "        evaluated_points[params_key] = score\n",
    "        return score\n",
    "\n",
    "    res_gp_svm_nr = gp_minimize(objective, space, n_calls=30, random_state=0)\n",
    "    \n",
    "    # Adjust the model parameters based on the optimization results\n",
    "    if 'rbf' in space[0]:\n",
    "        clf_svm_optim_nr = SVC(random_state=0, kernel=res_gp_svm_nr.x[0], C=res_gp_svm_nr.x[1], gamma=res_gp_svm_nr.x[2]) \n",
    "        Cs_nr.append(res_gp_svm_nr.x[1])  # Store C values for rbf kernel\n",
    "        gammas_nr.append(res_gp_svm_nr.x[2])  # Store gamma values for rbf kernel\n",
    "    else:\n",
    "        clf_svm_optim_nr = SVC(random_state=0, kernel=res_gp_svm_nr.x[0], C=res_gp_svm_nr.x[1], gamma='auto')  # Use C value of 1000 for non-rbf kernels\n",
    "        Cs_nr.append(res_gp_svm_nr.x[1])  # Store C values for non-rbf kernels\n",
    "        gammas_nr.append('auto')  # Store gamma as 'auto' for non-rbf kernels\n",
    "    \n",
    "    kernels_nr.append(res_gp_svm_nr.x[0])\n",
    "\n",
    "    clf_svm_optim_nr.fit(X_train, y_train)\n",
    "    y_pred = clf_svm_optim_nr.predict(X_test)\n",
    "    acc_svm_nr.append(accuracy_score(y_test, y_pred))\n",
    "    precision_svm_nr.append(precision_score(y_test, y_pred, zero_division=1))\n",
    "    recall_svm_nr.append(recall_score(y_test, y_pred))\n",
    "    f1_svm_nr.append(f1_score(y_test, y_pred))\n",
    "    \n",
    "  # Perform neuralisation\n",
    "    svm_neural_nr = NeuralizedSVM(clf_svm_optim_nr)\n",
    "    R_svr_accumulated_nr = svm_neural_nr.explain(X_test, first_rule=\"GI\", with_intercept=False, reweight_explanation=True)\n",
    "    R_svr_accumulated_all_nr.append(R_svr_accumulated_nr)\n",
    "\n",
    "    if rs % 10 == 0:\n",
    "        print(\"Split %s\" % rs)\n"
   ]
  },
  {
   "cell_type": "code",
   "execution_count": null,
   "id": "9e5fe7ea-3463-4c13-8a54-b6f45265ec91",
   "metadata": {},
   "outputs": [],
   "source": [
    "optimal_kernel = res_gp_svm_nr.x[0]\n",
    "optimal_C = res_gp_svm_nr.x[1]\n",
    "optimal_gamma = res_gp_svm_nr.x[2]  # Add this line to access the optimized gamma value\n",
    "\n",
    "print(\"Optimal Kernel:\", optimal_kernel)\n",
    "print(\"Optimal C:\", optimal_C)\n",
    "print(\"Optimal Gamma:\", optimal_gamma)  # Print the optimized gamma value\n"
   ]
  },
  {
   "cell_type": "code",
   "execution_count": null,
   "id": "a4ac8589-1b11-435f-8c6d-23f3ea495e06",
   "metadata": {},
   "outputs": [],
   "source": [
    "analyzer = LRPAnalyzer(np.array(R_svr_accumulated_all_nr).reshape(-1, len(feature_names)), feature_names)\n",
    "analyzer.calculate_mean_lrp_scores()\n",
    "analyzer.calculate_mean_abs_lrp_scores()\n",
    "analyzer.plot_lrp_scores(os.path.join(figure_path, 'sorted_mean_lrp_SVM_NO_Resampling_GI.png'))\n",
    "analyzer.plot_abs_lrp_scores(os.path.join(figure_path, 'sorted_mean_abs_lrp_SVM_NO_Resampling_GI.png'))\n",
    "analyzer.save_scores_to_csv(os.path.join(storing_path, 'sorted_mean_lrp_SVM_NO_Resampling.csv'), os.path.join(storing_path, 'sorted_mean_abs_lrp_SVM_NO_Resampling.csv'))"
   ]
  },
  {
   "cell_type": "markdown",
   "id": "0472270d-6d0d-4721-957d-87fa3c6c2de2",
   "metadata": {},
   "source": [
    "### Display different performance metrics"
   ]
  },
  {
   "cell_type": "code",
   "execution_count": null,
   "id": "770c8ca1-aab3-43b1-9fdd-f2cf07f4b17d",
   "metadata": {},
   "outputs": [],
   "source": [
    "df_metrics_nr = get_formatted_results(acc_svm_nr, f1_svm_nr, precision_svm_nr, recall_svm_nr, model_name=\"SVM\", verbose=True, df_metrics = None)\n",
    "df_metrics_nr "
   ]
  },
  {
   "cell_type": "code",
   "execution_count": null,
   "id": "8fa58588-4dd0-42ca-9f16-7b67fd383119",
   "metadata": {},
   "outputs": [],
   "source": [
    "# drop the last row  of df_metrics and reset the index\n",
    "df_metrics"
   ]
  },
  {
   "cell_type": "markdown",
   "id": "0db66906-1e5e-4536-928a-1697c1a1b971",
   "metadata": {},
   "source": [
    "### Save SVM models evaluation and importance score results"
   ]
  },
  {
   "cell_type": "code",
   "execution_count": null,
   "id": "5865eac3-a3d7-4c40-8ec2-abe6a2c0e530",
   "metadata": {},
   "outputs": [],
   "source": [
    "## SAVING ANALYSIS RESULTS\n",
    "df_metrics.to_csv(os.path.join(storing_path, 'SVM_metrics_results.csv'), index=False)\n",
    "df_metrics_nr.to_csv(os.path.join(storing_path, 'SVM_metrics_NO_Resampling_results.csv'), index=False)"
   ]
  },
  {
   "cell_type": "code",
   "execution_count": null,
   "id": "7fb74c14-871e-4197-b7fd-3cab39b7f4db",
   "metadata": {},
   "outputs": [],
   "source": []
  }
 ],
 "metadata": {
  "kernelspec": {
   "display_name": "Python 3 (ipykernel)",
   "language": "python",
   "name": "python3"
  },
  "language_info": {
   "codemirror_mode": {
    "name": "ipython",
    "version": 3
   },
   "file_extension": ".py",
   "mimetype": "text/x-python",
   "name": "python",
   "nbconvert_exporter": "python",
   "pygments_lexer": "ipython3",
   "version": "3.10.15"
  }
 },
 "nbformat": 4,
 "nbformat_minor": 5
}
